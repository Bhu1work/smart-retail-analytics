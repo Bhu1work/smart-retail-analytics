{
 "cells": [
  {
   "cell_type": "code",
   "execution_count": 2,
   "id": "43e92258-688c-4a15-8cc3-5e78681e374e",
   "metadata": {},
   "outputs": [],
   "source": [
    "import pandas as pd\n",
    "\n",
    "# Load e-commerce data\n",
    "df = pd.read_csv('../data/raw/2019-Nov.csv')\n",
    "df = df[df['event_type'] == 'purchase']\n",
    "\n",
    "# Only needed columns\n",
    "ratings_df = df[['user_id', 'product_id']].copy()\n",
    "\n",
    "# Add implicit rating = 1 per purchase (binary)\n",
    "ratings_df['rating'] = 1\n"
   ]
  },
  {
   "cell_type": "code",
   "execution_count": 3,
   "id": "640ffabe-7837-4a0f-a1ff-666a79cc1f69",
   "metadata": {},
   "outputs": [],
   "source": [
    "from surprise import Dataset, Reader\n",
    "from surprise.model_selection import train_test_split\n",
    "from surprise import SVD\n",
    "from surprise.accuracy import rmse\n"
   ]
  },
  {
   "cell_type": "code",
   "execution_count": 4,
   "id": "b70e5275-7288-4411-8167-2e95735c5786",
   "metadata": {},
   "outputs": [],
   "source": [
    "# Define schema\n",
    "reader = Reader(rating_scale=(0, 1))\n",
    "data = Dataset.load_from_df(ratings_df[['user_id', 'product_id', 'rating']], reader)\n",
    "\n",
    "# Train-test split\n",
    "trainset, testset = train_test_split(data, test_size=0.2, random_state=42)\n"
   ]
  },
  {
   "cell_type": "code",
   "execution_count": 5,
   "id": "238885bf-e44f-4f08-ae8d-17d197dbf4fb",
   "metadata": {},
   "outputs": [
    {
     "name": "stdout",
     "output_type": "stream",
     "text": [
      "RMSE: 0.0303\n"
     ]
    },
    {
     "data": {
      "text/plain": [
       "0.030327912134463723"
      ]
     },
     "execution_count": 5,
     "metadata": {},
     "output_type": "execute_result"
    }
   ],
   "source": [
    "algo = SVD()\n",
    "algo.fit(trainset)\n",
    "\n",
    "# Evaluate\n",
    "predictions = algo.test(testset)\n",
    "rmse(predictions)\n"
   ]
  },
  {
   "cell_type": "code",
   "execution_count": 6,
   "id": "f31a8acd-fad5-454a-8724-f46f679e420e",
   "metadata": {},
   "outputs": [
    {
     "data": {
      "text/plain": [
       "[(26401669, 1), (1801881, 1), (5800823, 1), (30000218, 1), (12703106, 1)]"
      ]
     },
     "execution_count": 6,
     "metadata": {},
     "output_type": "execute_result"
    }
   ],
   "source": [
    "# Pick a user\n",
    "user_id = ratings_df['user_id'].sample(1).values[0]\n",
    "\n",
    "# Get all unique products\n",
    "all_products = ratings_df['product_id'].unique()\n",
    "\n",
    "# Get products this user already purchased\n",
    "purchased = ratings_df[ratings_df['user_id'] == user_id]['product_id'].values\n",
    "\n",
    "# Predict scores for all unseen products\n",
    "unseen = [pid for pid in all_products if pid not in purchased]\n",
    "preds = [algo.predict(user_id, pid) for pid in unseen]\n",
    "\n",
    "# Sort predictions by estimated rating\n",
    "top_preds = sorted(preds, key=lambda x: x.est, reverse=True)[:5]\n",
    "\n",
    "# Output recommendations\n",
    "recommendations = [(p.iid, p.est) for p in top_preds]\n",
    "recommendations\n"
   ]
  },
  {
   "cell_type": "code",
   "execution_count": 7,
   "id": "06a31809-2edd-49bd-a56b-18308f802f97",
   "metadata": {},
   "outputs": [],
   "source": [
    "top_users = ratings_df['user_id'].value_counts().head(100).index.tolist()\n",
    "\n",
    "final_recs = []\n",
    "\n",
    "for uid in top_users:\n",
    "    seen = ratings_df[ratings_df['user_id'] == uid]['product_id'].values\n",
    "    unseen = [pid for pid in all_products if pid not in seen]\n",
    "    preds = [algo.predict(uid, pid) for pid in unseen]\n",
    "    top5 = sorted(preds, key=lambda x: x.est, reverse=True)[:5]\n",
    "    for p in top5:\n",
    "        final_recs.append({'user_id': p.uid, 'product_id': p.iid, 'score': p.est})\n",
    "\n",
    "# Create DataFrame\n",
    "recs_df = pd.DataFrame(final_recs)\n",
    "recs_df.to_csv('../data/processed/recommendations.csv', index=False)\n"
   ]
  },
  {
   "cell_type": "code",
   "execution_count": null,
   "id": "163f8ec8-dde8-4899-adbb-2b3ae80d0b85",
   "metadata": {},
   "outputs": [],
   "source": []
  },
  {
   "cell_type": "code",
   "execution_count": null,
   "id": "fb40cf7a-469e-4985-804a-1dd8eec767d5",
   "metadata": {},
   "outputs": [],
   "source": []
  },
  {
   "cell_type": "code",
   "execution_count": null,
   "id": "d35822c7-7b37-4471-9e62-ed371baeeed5",
   "metadata": {},
   "outputs": [],
   "source": []
  }
 ],
 "metadata": {
  "kernelspec": {
   "display_name": "Python 3 (ipykernel)",
   "language": "python",
   "name": "python3"
  },
  "language_info": {
   "codemirror_mode": {
    "name": "ipython",
    "version": 3
   },
   "file_extension": ".py",
   "mimetype": "text/x-python",
   "name": "python",
   "nbconvert_exporter": "python",
   "pygments_lexer": "ipython3",
   "version": "3.10.11"
  }
 },
 "nbformat": 4,
 "nbformat_minor": 5
}
