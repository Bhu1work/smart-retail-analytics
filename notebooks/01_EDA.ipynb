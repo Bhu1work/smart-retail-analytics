{
 "cells": [
  {
   "cell_type": "code",
   "execution_count": 2,
   "id": "68c1b566-c3c4-43e4-a81d-4796812753ba",
   "metadata": {},
   "outputs": [
    {
     "data": {
      "text/html": [
       "<div>\n",
       "<style scoped>\n",
       "    .dataframe tbody tr th:only-of-type {\n",
       "        vertical-align: middle;\n",
       "    }\n",
       "\n",
       "    .dataframe tbody tr th {\n",
       "        vertical-align: top;\n",
       "    }\n",
       "\n",
       "    .dataframe thead th {\n",
       "        text-align: right;\n",
       "    }\n",
       "</style>\n",
       "<table border=\"1\" class=\"dataframe\">\n",
       "  <thead>\n",
       "    <tr style=\"text-align: right;\">\n",
       "      <th></th>\n",
       "      <th>event_time</th>\n",
       "      <th>event_type</th>\n",
       "      <th>product_id</th>\n",
       "      <th>category_id</th>\n",
       "      <th>category_code</th>\n",
       "      <th>brand</th>\n",
       "      <th>price</th>\n",
       "      <th>user_id</th>\n",
       "      <th>user_session</th>\n",
       "    </tr>\n",
       "  </thead>\n",
       "  <tbody>\n",
       "    <tr>\n",
       "      <th>0</th>\n",
       "      <td>2019-11-01 00:00:00 UTC</td>\n",
       "      <td>view</td>\n",
       "      <td>1003461</td>\n",
       "      <td>2053013555631882655</td>\n",
       "      <td>electronics.smartphone</td>\n",
       "      <td>xiaomi</td>\n",
       "      <td>489.07</td>\n",
       "      <td>520088904</td>\n",
       "      <td>4d3b30da-a5e4-49df-b1a8-ba5943f1dd33</td>\n",
       "    </tr>\n",
       "    <tr>\n",
       "      <th>1</th>\n",
       "      <td>2019-11-01 00:00:00 UTC</td>\n",
       "      <td>view</td>\n",
       "      <td>5000088</td>\n",
       "      <td>2053013566100866035</td>\n",
       "      <td>appliances.sewing_machine</td>\n",
       "      <td>janome</td>\n",
       "      <td>293.65</td>\n",
       "      <td>530496790</td>\n",
       "      <td>8e5f4f83-366c-4f70-860e-ca7417414283</td>\n",
       "    </tr>\n",
       "    <tr>\n",
       "      <th>2</th>\n",
       "      <td>2019-11-01 00:00:01 UTC</td>\n",
       "      <td>view</td>\n",
       "      <td>17302664</td>\n",
       "      <td>2053013553853497655</td>\n",
       "      <td>NaN</td>\n",
       "      <td>creed</td>\n",
       "      <td>28.31</td>\n",
       "      <td>561587266</td>\n",
       "      <td>755422e7-9040-477b-9bd2-6a6e8fd97387</td>\n",
       "    </tr>\n",
       "    <tr>\n",
       "      <th>3</th>\n",
       "      <td>2019-11-01 00:00:01 UTC</td>\n",
       "      <td>view</td>\n",
       "      <td>3601530</td>\n",
       "      <td>2053013563810775923</td>\n",
       "      <td>appliances.kitchen.washer</td>\n",
       "      <td>lg</td>\n",
       "      <td>712.87</td>\n",
       "      <td>518085591</td>\n",
       "      <td>3bfb58cd-7892-48cc-8020-2f17e6de6e7f</td>\n",
       "    </tr>\n",
       "    <tr>\n",
       "      <th>4</th>\n",
       "      <td>2019-11-01 00:00:01 UTC</td>\n",
       "      <td>view</td>\n",
       "      <td>1004775</td>\n",
       "      <td>2053013555631882655</td>\n",
       "      <td>electronics.smartphone</td>\n",
       "      <td>xiaomi</td>\n",
       "      <td>183.27</td>\n",
       "      <td>558856683</td>\n",
       "      <td>313628f1-68b8-460d-84f6-cec7a8796ef2</td>\n",
       "    </tr>\n",
       "  </tbody>\n",
       "</table>\n",
       "</div>"
      ],
      "text/plain": [
       "                event_time event_type  product_id          category_id  \\\n",
       "0  2019-11-01 00:00:00 UTC       view     1003461  2053013555631882655   \n",
       "1  2019-11-01 00:00:00 UTC       view     5000088  2053013566100866035   \n",
       "2  2019-11-01 00:00:01 UTC       view    17302664  2053013553853497655   \n",
       "3  2019-11-01 00:00:01 UTC       view     3601530  2053013563810775923   \n",
       "4  2019-11-01 00:00:01 UTC       view     1004775  2053013555631882655   \n",
       "\n",
       "               category_code   brand   price    user_id  \\\n",
       "0     electronics.smartphone  xiaomi  489.07  520088904   \n",
       "1  appliances.sewing_machine  janome  293.65  530496790   \n",
       "2                        NaN   creed   28.31  561587266   \n",
       "3  appliances.kitchen.washer      lg  712.87  518085591   \n",
       "4     electronics.smartphone  xiaomi  183.27  558856683   \n",
       "\n",
       "                           user_session  \n",
       "0  4d3b30da-a5e4-49df-b1a8-ba5943f1dd33  \n",
       "1  8e5f4f83-366c-4f70-860e-ca7417414283  \n",
       "2  755422e7-9040-477b-9bd2-6a6e8fd97387  \n",
       "3  3bfb58cd-7892-48cc-8020-2f17e6de6e7f  \n",
       "4  313628f1-68b8-460d-84f6-cec7a8796ef2  "
      ]
     },
     "execution_count": 2,
     "metadata": {},
     "output_type": "execute_result"
    }
   ],
   "source": [
    "# Step 1: Import core libraries\n",
    "import pandas as pd\n",
    "import numpy as np\n",
    "\n",
    "# Step 2: Load the CSV data\n",
    "df = pd.read_csv('../data/raw/2019-Nov.csv')\n",
    "\n",
    "# Step 3: Show the top rows\n",
    "df.head()\n"
   ]
  },
  {
   "cell_type": "code",
   "execution_count": 3,
   "id": "fbdd8117-1902-46b5-8881-6d32b029f301",
   "metadata": {},
   "outputs": [
    {
     "name": "stdout",
     "output_type": "stream",
     "text": [
      "<class 'pandas.core.frame.DataFrame'>\n",
      "RangeIndex: 67501979 entries, 0 to 67501978\n",
      "Data columns (total 9 columns):\n",
      " #   Column         Dtype  \n",
      "---  ------         -----  \n",
      " 0   event_time     object \n",
      " 1   event_type     object \n",
      " 2   product_id     int64  \n",
      " 3   category_id    int64  \n",
      " 4   category_code  object \n",
      " 5   brand          object \n",
      " 6   price          float64\n",
      " 7   user_id        int64  \n",
      " 8   user_session   object \n",
      "dtypes: float64(1), int64(3), object(5)\n",
      "memory usage: 4.5+ GB\n"
     ]
    }
   ],
   "source": [
    "# Check the structure of the data\n",
    "df.info()\n"
   ]
  },
  {
   "cell_type": "code",
   "execution_count": 4,
   "id": "5fe51921-1532-4475-9010-aec8ca5d707f",
   "metadata": {},
   "outputs": [],
   "source": [
    "# Convert event_time to datetime format\n",
    "df['event_time'] = pd.to_datetime(df['event_time'])\n"
   ]
  },
  {
   "cell_type": "code",
   "execution_count": 5,
   "id": "2ba18e60-0665-4d88-9d29-3ea5c637aa97",
   "metadata": {},
   "outputs": [
    {
     "data": {
      "text/plain": [
       "event_time              0\n",
       "event_type              0\n",
       "product_id              0\n",
       "category_id             0\n",
       "category_code    21898171\n",
       "brand             9224078\n",
       "price                   0\n",
       "user_id                 0\n",
       "user_session           10\n",
       "dtype: int64"
      ]
     },
     "execution_count": 5,
     "metadata": {},
     "output_type": "execute_result"
    }
   ],
   "source": [
    "# Check how many nulls exist in each column\n",
    "df.isnull().sum()\n"
   ]
  },
  {
   "cell_type": "code",
   "execution_count": 6,
   "id": "14bf8262-0ee3-4dbd-baff-e24966f5a598",
   "metadata": {},
   "outputs": [],
   "source": [
    "# Drop rows where user_id or product_id is missing\n",
    "df = df.dropna(subset=['user_id', 'product_id'])\n",
    "\n",
    "# Optional: Fill brand/category_code with 'unknown' if desired\n",
    "df['brand'] = df['brand'].fillna('unknown')\n",
    "df['category_code'] = df['category_code'].fillna('unknown')"
   ]
  },
  {
   "cell_type": "code",
   "execution_count": 7,
   "id": "ae9d5060-e2fd-4479-a45c-9c6f8b3bac40",
   "metadata": {},
   "outputs": [
    {
     "data": {
      "text/plain": [
       "event_type\n",
       "view        63556110\n",
       "cart         3028930\n",
       "purchase      916939\n",
       "Name: count, dtype: int64"
      ]
     },
     "execution_count": 7,
     "metadata": {},
     "output_type": "execute_result"
    }
   ],
   "source": [
    "# How many of each type of user action?\n",
    "df['event_type'].value_counts()\n"
   ]
  },
  {
   "cell_type": "code",
   "execution_count": 8,
   "id": "8bdfc2fc-cb43-4856-a65e-99cbcb2b1800",
   "metadata": {},
   "outputs": [],
   "source": [
    "# Sort events by time (just to be safe)\n",
    "df = df.sort_values(by=['user_id', 'user_session', 'event_time'])\n"
   ]
  },
  {
   "cell_type": "code",
   "execution_count": 9,
   "id": "e82f1d77-65f4-47e8-83d0-166fb1fa1bbf",
   "metadata": {},
   "outputs": [],
   "source": [
    "# Extract all purchase timestamps per session\n",
    "purchase_df = df[df['event_type'] == 'purchase'][['user_session', 'event_time']]\n",
    "purchase_df = purchase_df.rename(columns={'event_time': 'purchase_time'})\n"
   ]
  },
  {
   "cell_type": "code",
   "execution_count": 10,
   "id": "5920aa44-d804-4ea8-99c9-a5eecd4ad999",
   "metadata": {},
   "outputs": [],
   "source": [
    "# Merge purchase time into original dataset (so each event knows if purchase happened)\n",
    "df = pd.merge(df, purchase_df, on='user_session', how='left')\n"
   ]
  },
  {
   "cell_type": "code",
   "execution_count": 11,
   "id": "f8cfb1df-c86e-4acc-b321-36f7c5e3f2fb",
   "metadata": {},
   "outputs": [],
   "source": [
    "# Calculate how long (in seconds) after the event the purchase happened\n",
    "df['time_to_purchase'] = (df['purchase_time'] - df['event_time']).dt.total_seconds()\n"
   ]
  },
  {
   "cell_type": "code",
   "execution_count": 14,
   "id": "deff60f1-e503-4e6e-bda3-f6c5656686b7",
   "metadata": {},
   "outputs": [],
   "source": [
    "# Step 1: Safely copy the cart event rows\n",
    "cart_df = df[df['event_type'] == 'cart'].copy()\n",
    "\n",
    "# Step 2: Define churn label (safe to modify now)\n",
    "cart_df['churned'] = np.where(\n",
    "    (cart_df['purchase_time'].isna()) | (cart_df['time_to_purchase'] > 604800),\n",
    "    1,\n",
    "    0\n",
    ")\n",
    "\n"
   ]
  },
  {
   "cell_type": "code",
   "execution_count": 15,
   "id": "0c1ca025-dd94-4470-9caa-a495ff812928",
   "metadata": {},
   "outputs": [],
   "source": [
    "# For each session, count how many 'view' events occurred before the 'cart'\n",
    "views_df = df[df['event_type'] == 'view']\n",
    "\n",
    "# Count views per session\n",
    "view_counts = views_df.groupby('user_session').size().reset_index(name='view_count')\n",
    "\n",
    "# Merge with cart_df\n",
    "cart_df = cart_df.merge(view_counts, on='user_session', how='left')\n",
    "cart_df['view_count'] = cart_df['view_count'].fillna(0)  # Fill NaN if no views found\n"
   ]
  },
  {
   "cell_type": "code",
   "execution_count": 16,
   "id": "25bd6363-ad69-4844-aff9-ad2cf29c50eb",
   "metadata": {},
   "outputs": [],
   "source": [
    "# First view time per session\n",
    "first_view = views_df.groupby('user_session')['event_time'].min().reset_index()\n",
    "first_view = first_view.rename(columns={'event_time': 'first_view_time'})\n",
    "\n",
    "# Merge into cart_df\n",
    "cart_df = cart_df.merge(first_view, on='user_session', how='left')\n",
    "\n",
    "# Calculate time from first view to cart\n",
    "cart_df['time_to_cart'] = (cart_df['event_time'] - cart_df['first_view_time']).dt.total_seconds()\n"
   ]
  },
  {
   "cell_type": "code",
   "execution_count": 18,
   "id": "d3238517-c6e9-4794-b5f4-69c9aac0c5bd",
   "metadata": {},
   "outputs": [],
   "source": [
    "# Just use the price column already in cart_df\n",
    "cart_df['price'] = cart_df['price'].fillna(0)\n"
   ]
  },
  {
   "cell_type": "code",
   "execution_count": 19,
   "id": "ccca7b01-beab-4775-8b1d-6d28c2c87c6a",
   "metadata": {},
   "outputs": [],
   "source": [
    "# Day of week (0=Monday, 6=Sunday)\n",
    "cart_df['cart_dayofweek'] = cart_df['event_time'].dt.dayofweek\n",
    "\n",
    "# Hour of day (0–23)\n",
    "cart_df['cart_hour'] = cart_df['event_time'].dt.hour\n"
   ]
  },
  {
   "cell_type": "code",
   "execution_count": 20,
   "id": "142d2023-5d2f-4ee4-a040-e7390c630d46",
   "metadata": {},
   "outputs": [],
   "source": [
    "# Save to data/processed\n",
    "cart_df.to_csv('../data/processed/cart_churn_dataset.csv', index=False)\n"
   ]
  },
  {
   "cell_type": "code",
   "execution_count": null,
   "id": "3b5d1338-050f-4720-b8eb-8f06421ca689",
   "metadata": {},
   "outputs": [],
   "source": []
  }
 ],
 "metadata": {
  "kernelspec": {
   "display_name": "Python 3 (ipykernel)",
   "language": "python",
   "name": "python3"
  },
  "language_info": {
   "codemirror_mode": {
    "name": "ipython",
    "version": 3
   },
   "file_extension": ".py",
   "mimetype": "text/x-python",
   "name": "python",
   "nbconvert_exporter": "python",
   "pygments_lexer": "ipython3",
   "version": "3.13.3"
  }
 },
 "nbformat": 4,
 "nbformat_minor": 5
}
