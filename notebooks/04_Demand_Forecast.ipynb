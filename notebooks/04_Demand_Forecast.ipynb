{
 "cells": [
  {
   "cell_type": "code",
   "execution_count": 3,
   "id": "c4ea8a85-2372-426a-bf8b-1592602829a6",
   "metadata": {},
   "outputs": [],
   "source": [
    "import pandas as pd\n",
    "\n",
    "# Load data\n",
    "df = pd.read_csv('../data/raw/2019-Nov.csv')\n",
    "df['event_time'] = pd.to_datetime(df['event_time'])\n",
    "\n",
    "# Filter purchases only\n",
    "purchases = df[df['event_type'] == 'purchase'].copy()\n",
    "\n",
    "# Add date-only column\n",
    "purchases['purchase_date'] = purchases['event_time'].dt.date\n",
    "\n",
    "# Aggregate demand per product per day\n",
    "daily_demand = purchases.groupby(['product_id', 'purchase_date'])['user_id'].count().reset_index()\n",
    "daily_demand.columns = ['product_id', 'ds', 'y']  # Prophet needs 'ds' and 'y'\n"
   ]
  },
  {
   "cell_type": "code",
   "execution_count": 4,
   "id": "0483b984-57dd-48fd-b952-0375bf9a8bd3",
   "metadata": {},
   "outputs": [],
   "source": [
    "# Find top-selling products\n",
    "top_products = purchases['product_id'].value_counts().head(5).index.tolist()\n",
    "\n",
    "# Filter for just one product (we'll automate later)\n",
    "prod_df = daily_demand[daily_demand['product_id'] == top_products[0]].copy()\n",
    "prod_df = prod_df.drop(columns='product_id')\n"
   ]
  },
  {
   "cell_type": "code",
   "execution_count": 9,
   "id": "f480fba8-0f3d-40db-a809-ab79c77b1384",
   "metadata": {},
   "outputs": [],
   "source": [
    "top_products = (\n",
    "    daily_demand.groupby('product_id')['y'].sum()\n",
    "    .sort_values(ascending=False)\n",
    "    .head(10)\n",
    "    .index.tolist()\n",
    ")\n"
   ]
  },
  {
   "cell_type": "code",
   "execution_count": 10,
   "id": "b5050498-b86c-4a03-98a2-0f59213c2612",
   "metadata": {},
   "outputs": [
    {
     "name": "stderr",
     "output_type": "stream",
     "text": [
      "22:46:35 - cmdstanpy - INFO - Chain [1] start processing\n",
      "22:46:35 - cmdstanpy - INFO - Chain [1] done processing\n",
      "22:46:35 - cmdstanpy - INFO - Chain [1] start processing\n",
      "22:46:35 - cmdstanpy - INFO - Chain [1] done processing\n",
      "22:46:35 - cmdstanpy - INFO - Chain [1] start processing\n",
      "22:46:35 - cmdstanpy - INFO - Chain [1] done processing\n"
     ]
    },
    {
     "name": "stdout",
     "output_type": "stream",
     "text": [
      "✅ Forecast saved for Product ID 1004856\n",
      "✅ Forecast saved for Product ID 1004767\n"
     ]
    },
    {
     "name": "stderr",
     "output_type": "stream",
     "text": [
      "22:46:36 - cmdstanpy - INFO - Chain [1] start processing\n",
      "22:46:36 - cmdstanpy - INFO - Chain [1] done processing\n",
      "22:46:36 - cmdstanpy - INFO - Chain [1] start processing\n",
      "22:46:36 - cmdstanpy - INFO - Chain [1] done processing\n"
     ]
    },
    {
     "name": "stdout",
     "output_type": "stream",
     "text": [
      "✅ Forecast saved for Product ID 1005115\n",
      "✅ Forecast saved for Product ID 4804056\n"
     ]
    },
    {
     "name": "stderr",
     "output_type": "stream",
     "text": [
      "22:46:36 - cmdstanpy - INFO - Chain [1] start processing\n",
      "22:46:36 - cmdstanpy - INFO - Chain [1] done processing\n",
      "22:46:36 - cmdstanpy - INFO - Chain [1] start processing\n",
      "22:46:36 - cmdstanpy - INFO - Chain [1] done processing\n"
     ]
    },
    {
     "name": "stdout",
     "output_type": "stream",
     "text": [
      "✅ Forecast saved for Product ID 1004833\n",
      "✅ Forecast saved for Product ID 1002544\n",
      "✅ Forecast saved for Product ID 1004870\n"
     ]
    },
    {
     "name": "stderr",
     "output_type": "stream",
     "text": [
      "22:46:36 - cmdstanpy - INFO - Chain [1] start processing\n",
      "22:46:36 - cmdstanpy - INFO - Chain [1] done processing\n",
      "22:46:36 - cmdstanpy - INFO - Chain [1] start processing\n",
      "22:46:36 - cmdstanpy - INFO - Chain [1] done processing\n",
      "22:46:36 - cmdstanpy - INFO - Chain [1] start processing\n"
     ]
    },
    {
     "name": "stdout",
     "output_type": "stream",
     "text": [
      "✅ Forecast saved for Product ID 1005100\n",
      "✅ Forecast saved for Product ID 1004249\n"
     ]
    },
    {
     "name": "stderr",
     "output_type": "stream",
     "text": [
      "22:46:36 - cmdstanpy - INFO - Chain [1] done processing\n"
     ]
    },
    {
     "name": "stdout",
     "output_type": "stream",
     "text": [
      "✅ Forecast saved for Product ID 1005105\n"
     ]
    }
   ],
   "source": [
    "from prophet import Prophet\n",
    "import os\n",
    "\n",
    "# Create output directory if it doesn't exist\n",
    "os.makedirs('../data/processed/forecast_outputs', exist_ok=True)\n",
    "\n",
    "# Loop through each top product\n",
    "for product_id in top_products:\n",
    "    # Filter product-specific demand\n",
    "    prod_df = daily_demand[daily_demand['product_id'] == product_id].copy()\n",
    "    prod_df = prod_df.drop(columns='product_id')\n",
    "\n",
    "    # Initialize and train Prophet model\n",
    "    model = Prophet()\n",
    "    model.fit(prod_df)\n",
    "\n",
    "    # Create future 30-day dataframe\n",
    "    future = model.make_future_dataframe(periods=30)\n",
    "\n",
    "    # Predict\n",
    "    forecast = model.predict(future)\n",
    "    forecast['product_id'] = product_id\n",
    "\n",
    "    # Save the last 30-day forecast\n",
    "    output = forecast[['ds', 'yhat', 'product_id']].tail(30)\n",
    "    output.to_csv(f'../data/processed/forecast_outputs/forecast_{product_id}.csv', index=False)\n",
    "\n",
    "    print(f\"✅ Forecast saved for Product ID {product_id}\")\n"
   ]
  },
  {
   "cell_type": "code",
   "execution_count": 8,
   "id": "676ca66c-d9cb-4508-a62e-66919aae201f",
   "metadata": {},
   "outputs": [],
   "source": [
    "# Add product ID back in\n",
    "forecast['product_id'] = top_products[0]\n",
    "\n",
    "# Save just future dates\n",
    "forecast_out = forecast[['ds', 'yhat', 'product_id']].tail(30)\n",
    "forecast_out.to_csv('../data/processed/demand_forecast_product_1.csv', index=False)\n"
   ]
  },
  {
   "cell_type": "code",
   "execution_count": null,
   "id": "75a9703b-7a61-4cfb-802c-97ca8487cf5a",
   "metadata": {},
   "outputs": [],
   "source": []
  }
 ],
 "metadata": {
  "kernelspec": {
   "display_name": "Python 3 (ipykernel)",
   "language": "python",
   "name": "python3"
  },
  "language_info": {
   "codemirror_mode": {
    "name": "ipython",
    "version": 3
   },
   "file_extension": ".py",
   "mimetype": "text/x-python",
   "name": "python",
   "nbconvert_exporter": "python",
   "pygments_lexer": "ipython3",
   "version": "3.13.3"
  }
 },
 "nbformat": 4,
 "nbformat_minor": 5
}
